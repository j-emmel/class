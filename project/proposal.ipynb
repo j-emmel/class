{
 "cells": [
  {
   "cell_type": "markdown",
   "metadata": {},
   "source": [
    "# Project Proposal\n",
    "\n",
    "For my project, I will build on in-class work dealing with the traffic equation and systems of hyperbolic equations to model vehicular traffic in multiple travel lanes and approximate a solution for the extended model.\n",
    "\n",
    "## Previous Work: In-Class Discussion\n",
    "\n",
    "In class, we studied the one-dimensional traffic equation, shown below, which models the movement of vehicular traffic as a wave.\n",
    "\n",
    "$$u_t + \\nabla \\cdot (u (1-u)) = 0$$\n",
    "\n",
    "Here, $u \\in [0,1]$ is the density of cars in a single travel lane in units of, for example, vehicles per mile. $u=0$ represents an empty road, while $u=1$ represents bumper-to-bumper traffic. In this model, $1-u$ is the speed of traffic, so these $u$ values result in free-flowing and stopped traffic, respectively.\n",
    "\n",
    "## Project Work\n",
    "\n",
    "Laval and Daganzo's \"Lane-changing in traffic streams\" describes an approach to modeling traffic in multiple lanes; I will use this paper as a starting point for my project. They describe their model in two modules: a kinetic wave model, analogous to what we discussed in class, and a particle model, which describes individual, slow-moving vehicles that act as \"moving bottlenecks.\"\n",
    "\n",
    "Traffic in each lane is described as\n",
    "$$(u_\\ell)_t + f(u_\\ell)_{x} = \\Phi_\\ell$$\n",
    "Here, $\\ell \\in \\{1, 2\\}$ is the number of the lane, and $\\Phi_\\ell$ is the net change in density in lane $\\ell$. Since density is conserved, $\\Phi_1 = -\\Phi_2$ in the two-lane case.\n",
    "\n",
    "For my project, I will model two lanes of traffic using the wave model, without the input of the particle model. This represents vehicles moving on a segment of a two-lane, uninterrupted road (e.g, a freeway some distance away from an interchange). To approximate a solution, I expect to use an approximate Riemann solver, and I will perform a convergence study to check the approximation's performance.\n"
   ]
  }
 ],
 "metadata": {
  "kernelspec": {
   "display_name": "Python 3",
   "language": "python",
   "name": "python3"
  },
  "language_info": {
   "codemirror_mode": {
    "name": "ipython",
    "version": 3
   },
   "file_extension": ".py",
   "mimetype": "text/x-python",
   "name": "python",
   "nbconvert_exporter": "python",
   "pygments_lexer": "ipython3",
   "version": "3.6.2"
  }
 },
 "nbformat": 4,
 "nbformat_minor": 2
}
