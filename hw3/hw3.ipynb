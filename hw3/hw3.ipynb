{
 "cells": [
  {
   "cell_type": "markdown",
   "metadata": {},
   "source": [
    "# Homework 3 (WIP)\n",
    "\n",
    "Write a solver for the regularized $p$-Laplacian,\n",
    "$$ -\\nabla\\cdot\\big( \\kappa(\\nabla u) \\nabla u \\big) = 0 $$\n",
    "where\n",
    "$$ \\kappa(\\nabla u) = \\big(\\frac 1 2 \\epsilon^2 + \\frac 1 2 \\nabla u \\cdot \\nabla u \\big)^{\\frac{p-2}{2}}, $$\n",
    "$ \\epsilon > 0$, and $1 < p < \\infty$.  The case $p=2$ is the conventional Laplacian. This problem gets more strongly nonlinear when $p$ is far from 2 and when $\\epsilon$ approaches zero. The $p \\to 1$ limit is related to plasticity and has applications in non-Newtonion flows and structural mechanics.\n",
    "\n",
    "1. Implement a \"Picard\" solver, which is like a Newton solver except that the Jacobian is replaced by the linear system\n",
    "$$ J_{\\text{Picard}}(u) \\delta u \\sim -\\nabla\\cdot\\big( \\kappa(\\nabla u) \\nabla \\delta u \\big) . $$\n",
    "This is much easier to implement than the full Newton linearization.  How fast does this method converge for values of $p < 2$ and $p > 2$?\n",
    "\n",
    "* Use the linearization above as a preconditioner to a Newton-Krylov method.  That is, use [`scipy.sparse.linalg.LinearOperator`](https://docs.scipy.org/doc/scipy-0.19.1/reference/generated/scipy.sparse.linalg.LinearOperator.html) to apply the Jacobian to a vector\n",
    "$$ \\tilde J(u) v = \\frac{F(u + h v) - F(u)}{h} . $$\n",
    "Then for each linear solve, use [`scipy.sparse.linalg.gmres`](https://docs.scipy.org/doc/scipy-0.19.1/reference/generated/scipy.sparse.linalg.gmres.html) and pass as a preconditioner, a direct solve with the Picard linearization above. (You might find [`scipy.sparse.linalg.factorized`](https://docs.scipy.org/doc/scipy-0.19.1/reference/generated/scipy.sparse.linalg.factorized.html#scipy.sparse.linalg.factorized) to be useful. Compare algebraic convergence to that of the Picard method.\n",
    "\n",
    "* Can you directly implement a Newton linearization?  Either do it or explain what is involved.  How will its nonlinear convergence compare to that of the Newton-Krylov method?"
   ]
  },
  {
   "cell_type": "code",
   "execution_count": 1,
   "metadata": {
    "collapsed": true
   },
   "outputs": [],
   "source": [
    "%precision 3\n",
    "#%matplotlib notebook\n",
    "%matplotlib inline\n",
    "\n",
    "import numpy\n",
    "from matplotlib import pyplot\n",
    "import scipy.sparse as sp\n",
    "import scipy.sparse.linalg\n",
    "pyplot.style.use('ggplot')\n",
    "\n",
    "def hgrid(h):\n",
    "    m = int(1/h + 1)  # Number of elements in terms of nominal grid spacing h\n",
    "    h = 1 / (m-1)     # Actual grid spacing\n",
    "    c = numpy.linspace(0, 1, m)\n",
    "    y, x = numpy.meshgrid(c, c)\n",
    "    return x, y\n",
    "\n",
    "def grid_spacing(h):\n",
    "    m = int(1/h + 1)  # Number of elements in terms of nominal grid spacing h\n",
    "    return 1 / (m-1)  # Actual grid spacing"
   ]
  },
  {
   "cell_type": "markdown",
   "metadata": {},
   "source": [
    "## Picard Solver Implementation\n",
    "\n",
    "The code below implements a Picard solver for the _p_-Laplacian problem,\n",
    "$$ -\\nabla\\cdot\\big( \\kappa(\\nabla u) \\nabla u \\big) = f(x,y)\\\\\n",
    "\\kappa(\\nabla u) = \\big(\\frac 1 2 \\epsilon^2 + \\frac 1 2 \\nabla u \\cdot \\nabla u \\big)^{\\frac{p-2}{2}} $$"
   ]
  },
  {
   "cell_type": "code",
   "execution_count": 2,
   "metadata": {
    "collapsed": true
   },
   "outputs": [],
   "source": [
    "def p_laplacian_picard(h, x, y, u, forcing, g0, eps, p, dirichlet=((),())):\n",
    "    \"\"\"\n",
    "    Approximates a solution to the P-Laplacian:\n",
    "      -1 * div(kappa(grad(u)) * grad(u)) = 0\n",
    "      kappa(grad(u)) = \n",
    "          ((0.5 * eps^2) + (0.5 * grad(u) dot grad(u))) ^ ((p-2)/2)\n",
    "    \n",
    "    Parameters:\n",
    "      h: grid size (the value passed to hgrid)\n",
    "      x: x-coordinates of the grid\n",
    "      y: y-coordinates of the grid\n",
    "      u: the current approximation for u \n",
    "      forcing: f(x,y) forcing function for the problem\n",
    "      g0: function for Dirichlet boundary -- u(x,y) = g0(x, y)\n",
    "      eps: value of epsilon in the P-Laplacian\n",
    "      p: value of p in the P-Laplacian\n",
    "      dirichlet: where to impose Dirichlet boundary conditions (x, y)\n",
    "          - first element can be 0 for left boundary\n",
    "          - second element can be -1 for right boundary \n",
    "        E.g., ((0, -1), (0, -1)) for all Dirichlet conditions\n",
    "        (0 and -1 are used as array indices: first and last elements)\n",
    "    \"\"\"\n",
    "    \n",
    "    # Stencil to evaluate gradient at four staggered points\n",
    "    grad = numpy.array([[-1, 0, 1, 0, 0],\n",
    "                        [0, -1, 1, 0, 0],\n",
    "                        [0, 0, -1, 1, 0],\n",
    "                        [0, 0, -1, 0, 1]]) / h\n",
    "    # Stencil to compute divergence at cell centers from fluxes at four \n",
    "    # staggered points\n",
    "    div = numpy.array([-1, -1, 1, 1]) / h\n",
    "\n",
    "    m = x.shape[0]\n",
    "    u0 = g0(x, y).flatten()\n",
    "    \n",
    "    F = -forcing(x, y).flatten()\n",
    "    \n",
    "    # COO representation of the A matrix (the WIP J)\n",
    "    ai = []\n",
    "    aj = []\n",
    "    av = []\n",
    "\n",
    "    # Convenience function for accessing grid elements\n",
    "    def idx(i, j):\n",
    "        i = (m-1) - abs(m-1 - abs(i))\n",
    "        j = (m-1) - abs(m-1 - abs(j))\n",
    "        return i*m + j\n",
    "\n",
    "    # Create the mask and set the indices corresponding to Dirichlet BCs to 0\n",
    "    mask = numpy.ones_like(x, dtype=bool)\n",
    "    mask[dirichlet[0],:] = False\n",
    "    mask[:,dirichlet[1]] = False\n",
    "    mask = mask.flatten()\n",
    "\n",
    "    u = u.flatten()\n",
    "    F[mask == False] = u[mask == False] - u0[mask == False]\n",
    "    u[mask == False] = u0[mask == False]\n",
    "\n",
    "    for i in range(m):\n",
    "        for j in range(m):\n",
    "            row = idx(i, j)\n",
    "            stencili = numpy.array([idx(*pair) for pair in [\n",
    "                (i-1, j), (i, j-1), (i, j), (i, j+1), (i+1, j)]])\n",
    "            ustencil = u[stencili]\n",
    "            ugrad = grad @ ustencil\n",
    "            \n",
    "            kappa = numpy.zeros_like(ugrad) + (\n",
    "                0.5 * eps ** 2 + 0.5 * numpy.inner(ugrad, ugrad)) ** ((p-2) / 2)\n",
    "            \n",
    "            if mask[row] == 0: # If this (i, j) is on a Dirichlet boundary\n",
    "                ai.append(row)\n",
    "                aj.append(row)\n",
    "                av.append(1)\n",
    "            else:\n",
    "                F[row] -= div @ (kappa[:,None] * grad @ ustencil)\n",
    "                Jstencil = -div @ (kappa[:,None] * grad)\n",
    "                smask = mask[stencili]\n",
    "                ai += [row]*sum(smask)\n",
    "                aj += stencili[smask].tolist()\n",
    "                av += Jstencil[smask].tolist()\n",
    "\n",
    "    J = sp.csr_matrix((av, (ai, aj)), shape=(m*m,m*m))\n",
    "    return F, J\n",
    "    \n",
    "\n",
    "def solve_p_laplacian_picard(h, g0, forcing, eps, p, dirichlet, atol=1e-8, verbose=False):\n",
    "    x, y = hgrid(h)\n",
    "    u = 0*x\n",
    "    \n",
    "    # Each time around the loop, you'll start with a new initial guess u\n",
    "    for i in range(50):\n",
    "        # Compute residual and Jacobian at u\n",
    "        F, J = p_laplacian_picard(h, x, y, u, forcing,\n",
    "                               g0, # g0, Dirichlet BC function\n",
    "                               eps, \n",
    "                               p, \n",
    "                               dirichlet=((0,-1),(0,-1))) # all Dirichlet BCs\n",
    "        \n",
    "        # Break if the residual norm is lower than the tolerance\n",
    "        anorm = numpy.linalg.norm(F, numpy.inf)\n",
    "        if verbose:\n",
    "            print('{:2d}: anorm {:8e}'.format(i,anorm))\n",
    "        if anorm < atol:\n",
    "            break\n",
    "            \n",
    "        # Solve and take a step\n",
    "        deltau = sp.linalg.spsolve(J, -F)\n",
    "        u += deltau.reshape(x.shape)\n",
    "\n",
    "    return x, y, u, i"
   ]
  },
  {
   "cell_type": "markdown",
   "metadata": {
    "collapsed": true
   },
   "source": [
    "### Testing with a Manufactured Solution\n",
    "\n",
    "To verify the results of the solver, we'll use a manufactured solution. Specifically, it'll be the one from lecture:\n",
    "$$ u(x, y) = x e^{-2x} \\tanh(1.2y+0.1) $$\n",
    "To evaluate the terms needed in the problem, we'll use SymPy.\n",
    "\n",
    "For the moment, here's one test to look at."
   ]
  },
  {
   "cell_type": "code",
   "execution_count": 3,
   "metadata": {},
   "outputs": [
    {
     "data": {
      "image/png": "[encoded data removed]",
      "text/plain": [
       "<matplotlib.figure.Figure at 0x1140f0278>"
      ]
     },
     "metadata": {},
     "output_type": "display_data"
    },
    {
     "data": {
      "image/png": "[encoded data removed]",
      "text/plain": [
       "<matplotlib.figure.Figure at 0x114265a58>"
      ]
     },
     "metadata": {},
     "output_type": "display_data"
    }
   ],
   "source": [
    "class mms_p_laplacian:\n",
    "    def __init__(self, eps = 0, p = 2):\n",
    "        import sympy\n",
    "        from sympy.vector import gradient\n",
    "        x, y = sympy.symbols('x y')\n",
    "\n",
    "        uexpr = x * sympy.exp(-2*x) * sympy.tanh(1.2*y+.1)\n",
    "        def grad_u(xx, yy):\n",
    "            ux = sympy.lambdify((x,y), sympy.diff(u, x))\n",
    "            uy = sympy.lambdify((x,y), sympy.diff(u, y))\n",
    "            return ux(xx, yy), uy(xx, yy)\n",
    "        self.u = sympy.lambdify((x,y), uexpr)\n",
    "        \n",
    "        graduexpr = gradient(uexpr)\n",
    "        \n",
    "        kexpr = ((0.5 * eps **2) + (0.5 * graduexpr.dot(graduexpr))) ** ((p-2)/2)\n",
    "        self.kappa = sympy.lambdify((x,y), kexpr)\n",
    "        def grad_kappa(xx, yy):\n",
    "            kx = sympy.diff(kappa, x)\n",
    "            ky = sympy.diff(kappa, y)\n",
    "            return kx(xx, yy), ky(xx, yy)\n",
    "        \n",
    "        self.div_kappa_grad_u = sympy.lambdify((x,y),\n",
    "                                              -(  sympy.diff(kexpr * sympy.diff(uexpr, x), x)\n",
    "                                                + sympy.diff(kexpr * sympy.diff(uexpr, y), y)))    \n",
    "\n",
    "eps = 1\n",
    "p = 2\n",
    "\n",
    "mms = mms_p_laplacian(eps, p)\n",
    "x, y, u, i = solve_p_laplacian_picard(.1, \n",
    "    mms.u, # g0\n",
    "    mms.div_kappa_grad_u, # forcing\n",
    "    eps = eps,\n",
    "    p = p,\n",
    "    dirichlet=((0,-1),(0,-1)))\n",
    "\n",
    "pyplot.figure()\n",
    "pyplot.contourf(x, y, u)\n",
    "pyplot.colorbar();\n",
    "\n",
    "pyplot.figure()\n",
    "pyplot.contourf(x, y, mms.u(x,y))\n",
    "pyplot.colorbar();"
   ]
  },
  {
   "cell_type": "markdown",
   "metadata": {},
   "source": [
    "That looks good. Let's try a convergence study with the same manufactured solution."
   ]
  },
  {
   "cell_type": "code",
   "execution_count": 4,
   "metadata": {},
   "outputs": [
    {
     "data": {
      "text/plain": [
       "<matplotlib.legend.Legend at 0x114eb7908>"
      ]
     },
     "execution_count": 4,
     "metadata": {},
     "output_type": "execute_result"
    },
    {
     "data": {
      "image/png": "[encoded data removed]",
      "text/plain": [
       "<matplotlib.figure.Figure at 0x1132c5128>"
      ]
     },
     "metadata": {},
     "output_type": "display_data"
    }
   ],
   "source": [
    "def mms_error(h, eps, p):\n",
    "    \"\"\"\n",
    "    Computes the error for the Picard solver, applied to the p-Laplacian\n",
    "    problem with the given epsilon and p values.\n",
    "    \n",
    "    Parameters:\n",
    "      h: nominal grid size for the solver\n",
    "      eps: value of epsilon in the P-Laplacian\n",
    "      p: value of p in the P-Laplacian\n",
    "      \n",
    "    Returns:\n",
    "      the infinity norm of the difference between the actual and \n",
    "      approximated u values on the grid\n",
    "    \"\"\"\n",
    "    x, y = hgrid(h)\n",
    "    u = 0*x\n",
    "    rhs_fnc = lambda t: ddu(t) + a * du(t) + b * u(t)\n",
    "    \n",
    "    F, J = p_laplacian_picard(h, x, y, u, \n",
    "                           mms.div_kappa_grad_u,\n",
    "                           mms.u, # g0, Dirichlet BC function\n",
    "                           eps, \n",
    "                           p, \n",
    "                           dirichlet=((0,-1),(0,-1))) # all Dirichlet BCs\n",
    "\n",
    "    actual = mms.u(x, y)\n",
    "    approx = sp.linalg.spsolve(J, -F).reshape(x.shape)\n",
    "    return numpy.linalg.norm((approx - actual).flatten(), numpy.inf)\n",
    "\n",
    "\n",
    "hs = numpy.logspace(-2, -.5, 10)\n",
    "errors = [mms_error(h, 0.1, 3) for h in hs]\n",
    "\n",
    "# Start a new figure and plot the error against comparison lines\n",
    "pyplot.figure()\n",
    "pyplot.loglog(hs, errors, 'o')\n",
    "for i in range(1, 3):\n",
    "    pyplot.loglog(hs, hs ** i, label=\"$h^{{{:d}}}$\".format(i))\n",
    "pyplot.xlabel('$h$')\n",
    "pyplot.ylabel('Error')\n",
    "pyplot.legend(loc='lower right')\n"
   ]
  },
  {
   "cell_type": "markdown",
   "metadata": {},
   "source": [
    "And something's wrong."
   ]
  },
  {
   "cell_type": "markdown",
   "metadata": {},
   "source": [
    "### Convergence with Different $p$ Values\n",
    "\n",
    "Here, we'll take a look at how the Picard solver converges for two cases of the $p$-Laplacian problem, $p=0.5$ (an instance of $p < 2$) and $p=3$ (an instance of $p > 2$). We'll use $\\epsilon=0.1$, $f(x,y) = 1$ as the forcing function, and Dirichlet boundary conditions on all sides with the function $g_0(x,y) = 0$."
   ]
  },
  {
   "cell_type": "code",
   "execution_count": 5,
   "metadata": {},
   "outputs": [
    {
     "name": "stdout",
     "output_type": "stream",
     "text": [
      "**p = 1.000, epsilon = 0.100\n",
      " 0: anorm 1.000000e+00\n",
      " 1: anorm 2.990593e-02\n",
      " 2: anorm 7.770315e-04\n",
      " 3: anorm 1.520504e-05\n",
      " 4: anorm 2.561943e-07\n",
      " 5: anorm 3.934888e-09\n",
      "5 iteration(s)\n",
      "**p = 3.000, epsilon = 0.100\n",
      " 0: anorm 1.000000e+00\n",
      " 1: anorm 1.182237e-01\n",
      " 2: anorm 9.350163e-03\n",
      " 3: anorm 5.799862e-04\n",
      " 4: anorm 3.118485e-05\n",
      " 5: anorm 1.522277e-06\n",
      " 6: anorm 6.940634e-08\n",
      " 7: anorm 3.012202e-09\n",
      "7 iteration(s)\n"
     ]
    },
    {
     "data": {
      "image/png": "[encoded data removed]",
      "text/plain": [
       "<matplotlib.figure.Figure at 0x1132c50b8>"
      ]
     },
     "metadata": {},
     "output_type": "display_data"
    },
    {
     "data": {
      "image/png": "[encoded data removed]",
      "text/plain": [
       "<matplotlib.figure.Figure at 0x1143435c0>"
      ]
     },
     "metadata": {},
     "output_type": "display_data"
    }
   ],
   "source": [
    "def demo_solver(eps = 0.1, p = 2, verbose = False, show_plot = True):\n",
    "    print(\"**p = {:.3f}, epsilon = {:.3f}\".format(float(p), float(eps)))\n",
    "    \n",
    "    x, y, u, i = solve_p_laplacian_picard(.1, \n",
    "        lambda x,y: numpy.zeros_like(x), # g0\n",
    "        lambda x,y: numpy.ones_like(x),  # forcing\n",
    "        eps = 1,\n",
    "        p = p,\n",
    "        dirichlet=((0,-1),(0,-1)),\n",
    "        verbose=verbose)\n",
    "    \n",
    "    if show_plot:\n",
    "        pyplot.figure()\n",
    "        pyplot.contourf(x, y, u)\n",
    "        pyplot.title(\"$p={{{:.3f}}}, \\epsilon={{{:.3f}}}$ Approximation\".format(float(p), float(eps)))\n",
    "        pyplot.colorbar()\n",
    "        \n",
    "    print(\"{:d} iteration(s)\".format(i))\n",
    "\n",
    "demo_solver(p=1, verbose=True)\n",
    "demo_solver(p=3, verbose=True)"
   ]
  },
  {
   "cell_type": "markdown",
   "metadata": {},
   "source": [
    "It takes longer for the solution to converge in the $p=3$ case than in the $p=1.5$ case. \n",
    "\n",
    "This appears to occur in general; lower $p$ values, closer to one, require fewer iterations to converge, and more iterations are required as $p$ grows. See below for a some more test cases."
   ]
  },
  {
   "cell_type": "code",
   "execution_count": 6,
   "metadata": {
    "scrolled": true
   },
   "outputs": [
    {
     "name": "stdout",
     "output_type": "stream",
     "text": [
      "**p = 1.010, epsilon = 0.100\n",
      "5 iteration(s)\n",
      "**p = 1.001, epsilon = 0.100\n",
      "5 iteration(s)\n",
      "**p = 5.000, epsilon = 0.100\n",
      "15 iteration(s)\n",
      "**p = 10.000, epsilon = 0.100\n",
      "49 iteration(s)\n"
     ]
    }
   ],
   "source": [
    "demo_solver(p=1.01, show_plot=False)\n",
    "demo_solver(p=1.001, show_plot=False)\n",
    "demo_solver(p=5, show_plot=False)\n",
    "demo_solver(p=10, show_plot=False)"
   ]
  },
  {
   "cell_type": "markdown",
   "metadata": {
    "collapsed": true
   },
   "source": [
    "## Picard Solver as a Preconditioner\n",
    "\n",
    "Next, we'll use $J_{Picard}$ as computed above as a preconditioner to a Newton-Krylov method. Additionally, we'll use the residual from the Picard solver to compute $\\tilde{J}$ for this method as follows\n",
    "$$ \\tilde J(u) v = \\frac{F(u + h v) - F(u)}{h} . $$"
   ]
  },
  {
   "cell_type": "code",
   "execution_count": 7,
   "metadata": {},
   "outputs": [
    {
     "name": "stderr",
     "output_type": "stream",
     "text": [
      "/usr/local/lib/python3.6/site-packages/scipy/sparse/linalg/dsolve/linsolve.py:295: SparseEfficiencyWarning: splu requires CSC matrix format\n",
      "  warn('splu requires CSC matrix format', SparseEfficiencyWarning)\n"
     ]
    },
    {
     "data": {
      "text/plain": [
       "<matplotlib.colorbar.Colorbar at 0x115b5c438>"
      ]
     },
     "execution_count": 7,
     "metadata": {},
     "output_type": "execute_result"
    },
    {
     "data": {
      "image/png": "[encoded data removed]",
      "text/plain": [
       "<matplotlib.figure.Figure at 0x1140e0780>"
      ]
     },
     "metadata": {},
     "output_type": "display_data"
    }
   ],
   "source": [
    "from scipy.sparse.linalg import LinearOperator\n",
    "from scipy.sparse.linalg import gmres\n",
    "from scipy.sparse.linalg import factorized \n",
    "\n",
    "def solve_p_laplacian_nk(h, g0, forcing, eps, p, dirichlet, rtol=1e-8, verbose=False):\n",
    "    x, y = hgrid(h)\n",
    "    u = 0*x\n",
    "    \n",
    "    Fu, J_picard = p_laplacian_picard(\n",
    "        h, x, y, u, forcing, g0,\n",
    "        eps, p, \n",
    "        dirichlet=((0,-1),(0,-1)))    \n",
    "    norm0 = numpy.linalg.norm(Fu)    \n",
    "        \n",
    "    \n",
    "    # Each time around the loop, you'll start with a new initial guess u\n",
    "    for i in range(50):\n",
    "        # From here, the residual will be part of the N-K Jacobian, and J_picard will\n",
    "        # be used as a preconditioner to the N-K method.\n",
    "        \n",
    "        def jacobian(v):\n",
    "            j_h = 10e-8\n",
    "            Fuhv, _ = p_laplacian_picard(h, x, y, \n",
    "                u + j_h * v.reshape(u.shape),\n",
    "                forcing, \n",
    "                g0,\n",
    "                eps, \n",
    "                p, \n",
    "                dirichlet=((0,-1),(0,-1)))\n",
    "        \n",
    "            return (Fuhv - Fu) / j_h\n",
    "        \n",
    "        J_operator = LinearOperator(J_picard.shape, matvec=jacobian)\n",
    "        preconditioner = LinearOperator(J_picard.shape, matvec=factorized(J_picard))\n",
    "        deltau, _ = gmres(J_operator, -Fu, tol=0.001, M=preconditioner)\n",
    "        u += deltau.reshape(x.shape)\n",
    "\n",
    "        Fu, J_picard = p_laplacian_picard(\n",
    "            h, x, y, u, forcing, g0,\n",
    "            eps, p, \n",
    "            dirichlet=((0,-1),(0,-1)))    \n",
    "        # Break if the residual norm is lower than the tolerance\n",
    "        rnorm = numpy.linalg.norm(Fu)\n",
    "        if verbose:\n",
    "            print('{:2d}: norm {:8e}'.format(i,rnorm))\n",
    "        if rnorm < rtol * norm0:\n",
    "            break\n",
    "            \n",
    "    return x, y, u, i\n",
    "\n",
    "x, y, u, i = solve_p_laplacian_nk(0.1, \n",
    "        lambda x,y: numpy.zeros_like(x), # g0\n",
    "        lambda x,y: numpy.ones_like(x),  # forcing\n",
    "        eps = 0.1,\n",
    "        p = 3,\n",
    "        dirichlet=((0,-1),(0,-1)))\n",
    "\n",
    "pyplot.figure()\n",
    "pyplot.contourf(x, y, u)\n",
    "pyplot.colorbar()"
   ]
  },
  {
   "cell_type": "markdown",
   "metadata": {},
   "source": [
    "Let's take a look at how the Newton-Krylov solver performs under grid refinement, using the same manufactured solution as before."
   ]
  },
  {
   "cell_type": "code",
   "execution_count": 8,
   "metadata": {},
   "outputs": [],
   "source": [
    "def convergence_study_nk(hs, eps, p):\n",
    "    \"\"\"\n",
    "    Performs a convergence study for the Picard solver, applied to the p-Laplacian\n",
    "    problem with the given epsilon and p values.\n",
    "    \n",
    "    Parameters:\n",
    "      hs: list of h values to use for the study\n",
    "      eps: value of epsilon in the P-Laplacian\n",
    "      p: value of p in the P-Laplacian\n",
    "      \n",
    "    Returns:\n",
    "      elements: array containing the number of grid elements in each iteration\n",
    "      error: array containing the error for each iteration\n",
    "    \"\"\"\n",
    "    error = []\n",
    "    iterations = []\n",
    "    rhs_fnc = lambda t: ddu(t) + a * du(t) + b * u(t)\n",
    "    actual_hs = []\n",
    "    \n",
    "    for h in hs:\n",
    "        # Calculate the approximate solution\n",
    "        mms = mms_p_laplacian(eps, p)\n",
    "        x, y, approx_points, i = solve_p_laplacian_nk(h, \n",
    "            mms.u,   # g0\n",
    "            mms.div_kappa_grad_u, # forcing\n",
    "            eps = eps,\n",
    "            p = p,\n",
    "            dirichlet=((0,-1),(0,-1)))\n",
    "        \n",
    "        # Record the error between the approximation and the actual solution\n",
    "        actual_points = mms.u(x, y)\n",
    "        error.append(numpy.linalg.norm(\n",
    "            approx_points - actual_points, \n",
    "            numpy.inf))\n",
    "        actual_hs.append(grid_spacing(h))\n",
    "        iterations.append(i)\n",
    "    \n",
    "    elements = 1 / numpy.array(actual_hs)\n",
    "    return elements, error, iterations\n",
    "\n",
    "# hs_nk = numpy.logspace(-1.5, -.5, 8)\n",
    "# elements_nk, error_nk, iterations_nk = convergence_study_nk(hs_nk, 4, 3)\n",
    "\n",
    "# # Start a new figure and plot the error against comparison lines\n",
    "# pyplot.figure()\n",
    "# pyplot.loglog(hs_nk, error_nk, 'o')\n",
    "# for i in range(1, 3):\n",
    "#     pyplot.loglog(hs_nk, hs_nk ** i, label=\"$h^{{{:d}}}$\".format(i))\n",
    "# pyplot.xlabel('$h$')\n",
    "# pyplot.ylabel('Error')\n",
    "# pyplot.legend(loc='upper left')"
   ]
  },
  {
   "cell_type": "markdown",
   "metadata": {
    "collapsed": true
   },
   "source": [
    "..."
   ]
  },
  {
   "cell_type": "markdown",
   "metadata": {},
   "source": [
    "## Setting Up a Newton Linearization\n",
    "\n",
    "If we were using a Newton linearization, we would need to fully calculate the Jacobian of $F$, which would notably require differentiating $\\kappa(\\nabla u)$.\n",
    "\n",
    "Using a Newton method, we would expect quadratic convergence, in contrast to the linear convergence of the Newton-Krylov method."
   ]
  },
  {
   "cell_type": "code",
   "execution_count": null,
   "metadata": {
    "collapsed": true
   },
   "outputs": [],
   "source": []
  }
 ],
 "metadata": {
  "kernelspec": {
   "display_name": "Python 3",
   "language": "python",
   "name": "python3"
  },
  "language_info": {
   "codemirror_mode": {
    "name": "ipython",
    "version": 3
   },
   "file_extension": ".py",
   "mimetype": "text/x-python",
   "name": "python",
   "nbconvert_exporter": "python",
   "pygments_lexer": "ipython3",
   "version": "3.6.2"
  }
 },
 "nbformat": 4,
 "nbformat_minor": 2
}
