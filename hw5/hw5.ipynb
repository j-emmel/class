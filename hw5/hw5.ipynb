{
 "cells": [
  {
   "cell_type": "markdown",
   "metadata": {},
   "source": [
    "# Homework 5\n",
    "\n",
    "We consider steady-state flow in a fully saturated porous medium.  We will assume constant porosity and viscosity for simplicity, leading to [Darcy's law](https://en.wikipedia.org/wiki/Darcy%27s_law) producing a flux\n",
    "$$ q = -\\kappa \\nabla p $$\n",
    "in terms of pressure $p$ and permeability $\\kappa$.\n",
    "Conservation of mass yields a Laplacian\n",
    "$$ \\nabla\\cdot q = -\\nabla\\cdot \\big( \\kappa \\nabla p \\big) = 0 . $$\n",
    "The velocity of the fluid is\n",
    "$$ u = \\frac q \\phi $$\n",
    "where $\\phi \\in (0,1]$ is porosity.\n",
    "\n",
    "Our flow will take place on the 2D unit disc with two holes removed\n",
    "$$ \\left\\{ x \\in \\mathbb R^2 : |x|<1, \\big|x-(1/2,0)| > 1/4\\big|, \\big|x-(-1/2,0)| > 1/4\\big|  \\right\\} . $$\n",
    "The outer boundary is Neumann, corresponding to an impermeable boundary.\n",
    "The left \"hole\" is our inejection with a relative pressure of 1 and the right is extraction with a relative pressure of 0.\n",
    "We can solve for pressure as follows.\n",
    "\n",
    "```python\n",
    "mesh = Mesh(shape='eyes', reshape_boundary=True)\n",
    "fe = fe2tri(2)\n",
    "prob = laplacian2()\n",
    "x, pressure = fe2_solve(fe, mesh, prob.form, dict(left=lambda x:0*x[:,0]+1, right=lambda x:0*x[:,0]))\n",
    "pyplot.tricontourf(x[:,0], x[:,1], pressure, triangles=mesh.tri2())\n",
    "pyplot.title('Pressure')\n",
    "pyplot.colorbar();\n",
    "```\n",
    "\n",
    "The velocity field can be computed by taking the gradient of pressure and dividing by permeability.\n",
    "Now suppose that the fluid being injected at the left hole is hot while the outflow is a colder heat sink.\n",
    "Temperature will satisfy the advection-diffusion equation (with appropriate choice of units)\n",
    "$$ \\nabla\\cdot \\big( - \\nabla T + u T \\big) = 0 $$\n",
    "with boundary conditions $T=1$ at the left (inflow) hole, $T=0$ at the right (outflow) hole, and Neumann conditions at the (insulated) outer boundary.\n",
    "The homework is to solve for temperature using the velocity field defined by the pressure solution above.\n",
    "\n",
    "* You will need to modify `fe2_solve` so that you can evaluate velocity at the quadrature points.\n",
    "* You will need to write a `form` function that implements the weak form of the advection-diffusion equation for temperature.\n",
    "\n",
    "With respect to your numerically computed solutions, think about the following questions.\n",
    "\n",
    "1. What is the order of accuracy of $p$, $u$, and $T$ for linear `fe2tri(1)` and quadratic `fe2tri(2)` elements? Rather than interpolating to compare in a norm, you can compare by computing moments of the error, such as\n",
    "$$ \\int_\\Omega x (u_{2h} - u_h)(x,y) = \\int_\\Omega x u_{2h}(x,y) - \\int_\\Omega x u_h(x,y), $$\n",
    "where the two integrals on the right can be carried out on the natural quadrature of each mesh independently.\n",
    "\n",
    "2. When porosity $\\phi$ decreases (at fixed permeability), the velocity increases.  Can you obtain an accurate solution for $T$ for any value of $\\phi$ or is there a relationship between $\\phi$ and the grid size $h$?\n"
   ]
  },
  {
   "cell_type": "markdown",
   "metadata": {},
   "source": [
    "## Notebook Setup"
   ]
  },
  {
   "cell_type": "code",
   "execution_count": 11,
   "metadata": {
    "collapsed": true
   },
   "outputs": [],
   "source": [
    "%precision 3\n",
    "#%matplotlib notebook\n",
    "%matplotlib inline\n",
    "\n",
    "import numpy\n",
    "from matplotlib import pyplot\n",
    "pyplot.style.use('ggplot')\n",
    "\n",
    "import scipy.sparse as sp\n",
    "import scipy.sparse.linalg\n",
    "from scipy.optimize import fsolve\n",
    "\n",
    "%run hw_support.py"
   ]
  },
  {
   "cell_type": "markdown",
   "metadata": {},
   "source": [
    "## Solve for Temperature\n",
    "\n",
    "Temperature satisfies \n",
    "$$ \\nabla\\cdot \\big( - \\nabla T + u T \\big) = 0 $$\n",
    "with boundary conditions $T=1$ at the left (inflow) hole, $T=0$ at the right (outflow) hole, and Neumann conditions at the (insulated) outer boundary."
   ]
  },
  {
   "cell_type": "code",
   "execution_count": 12,
   "metadata": {},
   "outputs": [
    {
     "name": "stdout",
     "output_type": "stream",
     "text": [
      "    Subdomain boundary inhomogeneous (edge length ratio 4.000). Skipping.\n",
      "Newton 1 anorm 1.12e-14 rnorm 9.89e-16\n"
     ]
    },
    {
     "data": {
      "image/png": "[encoded data removed]",
      "text/plain": [
       "<matplotlib.figure.Figure at 0x10b235fd0>"
      ]
     },
     "metadata": {},
     "output_type": "display_data"
    }
   ],
   "source": [
    "mesh = Mesh(shape='eyes', reshape_boundary=True)\n",
    "fe = fe2tri(2)\n",
    "prob = laplacian2()\n",
    "x, pressure = fe2_solve(fe, mesh, prob.form, dict(left=lambda x:0*x[:,0]+1, right=lambda x:0*x[:,0]))\n",
    "pyplot.tricontourf(x[:,0], x[:,1], pressure, triangles=mesh.tri2())\n",
    "pyplot.title('Pressure')\n",
    "pyplot.colorbar();"
   ]
  },
  {
   "cell_type": "code",
   "execution_count": null,
   "metadata": {
    "collapsed": true
   },
   "outputs": [],
   "source": []
  }
 ],
 "metadata": {
  "kernelspec": {
   "display_name": "Python 3",
   "language": "python",
   "name": "python3"
  },
  "language_info": {
   "codemirror_mode": {
    "name": "ipython",
    "version": 3
   },
   "file_extension": ".py",
   "mimetype": "text/x-python",
   "name": "python",
   "nbconvert_exporter": "python",
   "pygments_lexer": "ipython3",
   "version": "3.6.2"
  }
 },
 "nbformat": 4,
 "nbformat_minor": 2
}
