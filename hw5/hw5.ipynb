{
 "cells": [
  {
   "cell_type": "markdown",
   "metadata": {},
   "source": [
    "# Homework 5\n",
    "\n",
    "We consider steady-state flow in a fully saturated porous medium.  We will assume constant porosity and viscosity for simplicity, leading to [Darcy's law](https://en.wikipedia.org/wiki/Darcy%27s_law) producing a flux\n",
    "$$ q = -\\kappa \\nabla p $$\n",
    "in terms of pressure $p$ and permeability $\\kappa$.\n",
    "Conservation of mass yields a Laplacian\n",
    "$$ \\nabla\\cdot q = -\\nabla\\cdot \\big( \\kappa \\nabla p \\big) = 0 . $$\n",
    "The velocity of the fluid is\n",
    "$$ u = \\frac q \\phi $$\n",
    "where $\\phi \\in (0,1]$ is porosity.\n",
    "\n",
    "Our flow will take place on the 2D unit disc with two holes removed\n",
    "$$ \\left\\{ x \\in \\mathbb R^2 : |x|<1, \\big|x-(1/2,0)| > 1/4\\big|, \\big|x-(-1/2,0)| > 1/4\\big|  \\right\\} . $$\n",
    "The outer boundary is Neumann, corresponding to an impermeable boundary.\n",
    "The left \"hole\" is our inejection with a relative pressure of 1 and the right is extraction with a relative pressure of 0.\n",
    "We can solve for pressure as follows.\n",
    "\n",
    "```python\n",
    "mesh = Mesh(shape='eyes', reshape_boundary=True)\n",
    "fe = fe2tri(2)\n",
    "prob = laplacian2()\n",
    "x, pressure = fe2_solve(fe, mesh, prob.form, dict(left=lambda x:0*x[:,0]+1, right=lambda x:0*x[:,0]))\n",
    "pyplot.tricontourf(x[:,0], x[:,1], pressure, triangles=mesh.tri2())\n",
    "pyplot.title('Pressure')\n",
    "pyplot.colorbar();\n",
    "```\n",
    "\n",
    "The velocity field can be computed by taking the gradient of pressure and dividing by permeability.\n",
    "Now suppose that the fluid being injected at the left hole is hot while the outflow is a colder heat sink.\n",
    "Temperature will satisfy the advection-diffusion equation (with appropriate choice of units)\n",
    "$$ \\nabla\\cdot \\big( - \\nabla T + u T \\big) = 0 $$\n",
    "with boundary conditions $T=1$ at the left (inflow) hole, $T=0$ at the right (outflow) hole, and Neumann conditions at the (insulated) outer boundary.\n",
    "The homework is to solve for temperature using the velocity field defined by the pressure solution above.\n",
    "\n",
    "* You will need to modify `fe2_solve` so that you can evaluate velocity at the quadrature points.\n",
    "* You will need to write a `form` function that implements the weak form of the advection-diffusion equation for temperature.\n",
    "\n",
    "With respect to your numerically computed solutions, think about the following questions.\n",
    "\n",
    "1. What is the order of accuracy of $p$, $u$, and $T$ for linear `fe2tri(1)` and quadratic `fe2tri(2)` elements? Rather than interpolating to compare in a norm, you can compare by computing moments of the error, such as\n",
    "$$ \\int_\\Omega x (u_{2h} - u_h)(x,y) = \\int_\\Omega x u_{2h}(x,y) - \\int_\\Omega x u_h(x,y), $$\n",
    "where the two integrals on the right can be carried out on the natural quadrature of each mesh independently.\n",
    "\n",
    "2. When porosity $\\phi$ decreases (at fixed permeability), the velocity increases.  Can you obtain an accurate solution for $T$ for any value of $\\phi$ or is there a relationship between $\\phi$ and the grid size $h$?\n"
   ]
  },
  {
   "cell_type": "code",
   "execution_count": 1,
   "metadata": {
    "collapsed": true
   },
   "outputs": [],
   "source": [
    "%precision 3\n",
    "#%matplotlib notebook\n",
    "%matplotlib inline\n",
    "\n",
    "import numpy\n",
    "from matplotlib import pyplot\n",
    "pyplot.style.use('ggplot')\n",
    "\n",
    "import scipy.sparse as sp\n",
    "import scipy.sparse.linalg\n",
    "from scipy.optimize import fsolve\n",
    "\n",
    "%run hw_support.py"
   ]
  },
  {
   "cell_type": "markdown",
   "metadata": {},
   "source": [
    "## Solve for Temperature\n",
    "\n",
    "From the problem description, temperature satisfies the following differential equation, with boundary conditions $T=1$ at the left (inflow) hole, $T=0$ at the right (outflow) hole, and Neumann conditions at the (insulated) outer boundary.\n",
    "$$ \\nabla\\cdot \\left( - \\nabla T + u T \\right) = 0 $$\n",
    "To solve this using a finite element method, we first rewrite the equation using a weak form, which will look like\n",
    "$$ \\int_\\Omega v\\cdot f_0(T, \\nabla T) + \\nabla v\\cdot f_1(T, \\nabla T) = 0, \\quad \\forall v$$\n",
    "To do this, we first multiple by a test function $v$ and integrate the differential equation.\n",
    "$$\\int_\\Omega v \\left ( \\nabla\\cdot \\left( - \\nabla T + u T \\right) \\right) = 0$$\n",
    "Then, we rewrite:\n",
    "$$- \\int_\\Omega \\nabla v \\cdot \\left ( - \\nabla T + u T \\right) + \\int_{\\partial \\Omega} v \\left( - \\nabla T + u T \\right) \\cdot \\hat n = 0$$\n",
    "The second integral addresses boundary conditions, and we don't need it now. The equation above simplies to\n",
    "$$\\int_\\Omega \\nabla v \\cdot \\left (\\nabla T - u T \\right) = 0$$\n",
    "This is in the form we want, using the following values:\n",
    "\\begin{align}\n",
    "&f_0(T, \\nabla T) = 0 &f_1(T, \\nabla T) = \\nabla T - u T\n",
    "\\end{align}\n",
    "Now that we have the weak form we need, we can start writing it into code. In the $f_1$ equation above, note the dependence on $u$, the velocity field, in $f_1$. We'll need support for that in `fe2_solve`, but, for now, it'll be a parameter in the `form` function."
   ]
  },
  {
   "cell_type": "code",
   "execution_count": 2,
   "metadata": {
    "collapsed": true
   },
   "outputs": [],
   "source": [
    "class temperature:\n",
    "    def __init__(self):\n",
    "        return\n",
    "    def form(self, x, T, dT, vel):\n",
    "        '''\n",
    "        Returns: two pairs, f and df\n",
    "          f (f_0, f_1): \n",
    "            f functions of the temperature equation's weak form evaluated at \n",
    "            the quadrature points\n",
    "          df (df_0, df_1):\n",
    "            each df_i is a pair, with this form\n",
    "            ((derivative of f_i with respect to T), \n",
    "             (derivative of f_i with respect to grad(T)))\n",
    "        '''\n",
    "        ## f0 = 0\n",
    "        ## f1 = grad(T) - u*T\n",
    "        ## df1/dT = -u\n",
    "        ## df1/d(grad(T)) = 1\n",
    "        \n",
    "        velT = vel * numpy.array([T]).T\n",
    "        f1 = dT - velT\n",
    "        return (0, f1), ((0, 0), (-vel, numpy.eye(2)[None,:,:]))"
   ]
  },
  {
   "cell_type": "markdown",
   "metadata": {},
   "source": [
    "Velocity is $u = q/\\phi$, where $q = -\\kappa \\nabla p$ is the flux and $\\phi \\in \\left(0, 1\\right]$ is porosity; for this assignment, we'll use the value $\\kappa = 1$. Now, on our way to calculating the flux, the code below, taken from the problem statement, solves the pressure equation derived from Darcy's Law."
   ]
  },
  {
   "cell_type": "code",
   "execution_count": 3,
   "metadata": {},
   "outputs": [
    {
     "name": "stdout",
     "output_type": "stream",
     "text": [
      "    Subdomain boundary inhomogeneous (edge length ratio 4.000). Skipping.\n",
      "Newton 1 anorm 1.10e-14 rnorm 9.75e-16\n"
     ]
    },
    {
     "data": {
      "image/png": "[encoded data removed]",
      "text/plain": [
       "<matplotlib.figure.Figure at 0x109195b38>"
      ]
     },
     "metadata": {},
     "output_type": "display_data"
    }
   ],
   "source": [
    "mesh = Mesh(shape='eyes', reshape_boundary=True)\n",
    "fe = fe2tri(2)\n",
    "\n",
    "kappa = 1\n",
    "prob = laplacian2(k = kappa)\n",
    "x, pressure = fe2_solve(fe, mesh, prob.form, dict(left=lambda x:0*x[:,0]+1, right=lambda x:0*x[:,0]))\n",
    "\n",
    "pyplot.tricontourf(x[:,0], x[:,1], pressure, triangles=mesh.tri2())\n",
    "pyplot.title('Pressure')\n",
    "pyplot.colorbar();"
   ]
  },
  {
   "cell_type": "markdown",
   "metadata": {},
   "source": [
    "With this, we can start on a solution for the temperature problem, the code for which continues below. The solver is a modification to `fe2_solve` from the lecture, which takes a new parameter that lets us pass in the pressure solution and other velocity-related information. "
   ]
  },
  {
   "cell_type": "code",
   "execution_count": 4,
   "metadata": {
    "scrolled": true
   },
   "outputs": [],
   "source": [
    "class velocity_components:\n",
    "    '''\n",
    "    Provides the additional parameter (velocity evaluated at quadrature points)\n",
    "    required for solving the temperature equation with an FEM.\n",
    "    \n",
    "    An instance of this class can be passed to fe2_solve_hw5 along with the\n",
    "    temperature form.\n",
    "    '''\n",
    "    def __init__(self, pressure, kappa = 1, phi = 0.5):\n",
    "        self.pressure = pressure\n",
    "        self.kappa = kappa\n",
    "        self.phi = phi\n",
    "        return\n",
    "    def evaluate(self, E, B, D, dXdxe):\n",
    "        Dxuq = numpy.einsum('ixX,iX->ix', dXdxe, D @ self.pressure[E])\n",
    "        return -1 * (self.kappa / self.phi) * Dxuq\n",
    "\n",
    "def fe2_solve_hw5(fe, mesh, form, other_params, dirichlet={}, spy=False):\n",
    "    x, Erestrict = mesh.Erestrict(fe.p)\n",
    "    Frestrict = mesh.Frestrict(fe.p)\n",
    "    Ndof = len(x)\n",
    "    B, D = fe.B, fe.D\n",
    "    xq, W, dXdx = fe2_geom(fe, mesh)\n",
    "    dirichletidx = []\n",
    "    bcmask = numpy.zeros(Ndof, dtype=bool)    \n",
    "    for label, func in dirichlet.items():\n",
    "        indices = Frestrict[mesh.boundary[label]].flatten()\n",
    "        dirichletidx.append((label, indices, func))\n",
    "        bcmask[indices] = True\n",
    "    \n",
    "    def project_dirichlet(u): # Affine projector into space satisfying Dirichlet BC\n",
    "        ubc = u.copy()\n",
    "        for label, indices, func in dirichletidx:\n",
    "            ubc[indices] = func(x[indices])\n",
    "        return ubc\n",
    "\n",
    "    def residual(u):\n",
    "        ubc = project_dirichlet(u)\n",
    "        v = u - ubc\n",
    "        for e, E in enumerate(Erestrict):\n",
    "            uE = ubc[E]\n",
    "            uq = B @ uE\n",
    "            add_params = other_params.evaluate(E, B, D, dXdx[e])\n",
    "            Dxuq = numpy.einsum('ixX,iX->ix', dXdx[e], D @ uE)\n",
    "            f, _ = form(xq[e], uq, Dxuq, add_params)\n",
    "            vE = B.T @ (W[e] * f[0]) + numpy.einsum('iXp,ixX,ix->p',\n",
    "                                                    D, dXdx[e], W[e,:,None] * f[1])\n",
    "            vE[bcmask[E]] = 0\n",
    "            v[E] += vE\n",
    "        return v\n",
    "    \n",
    "    def jacobian(u):\n",
    "        ubc = project_dirichlet(u)\n",
    "        ai = []\n",
    "        aj = []\n",
    "        aa = []\n",
    "        for e, E in enumerate(Erestrict):\n",
    "            uE = ubc[E]\n",
    "            add_params = other_params.evaluate(E, B, D, dXdx[e])\n",
    "            Dx = numpy.einsum('ixX,iXp->ixp', dXdx[e], D)\n",
    "            _, df = form(xq[e], B @ uE, Dx @ uE, add_params)\n",
    "            Ae = (numpy.einsum('qi,q,qj->ij', B, W[e] * df[0][0], B) +\n",
    "                  + numpy.einsum('qi,qy,qyj->ij', B, W[e,:,None] * df[0][1], Dx) +\n",
    "                  + numpy.einsum('qxi,qx,qj->ij', Dx, W[e,:,None] * df[1][0], B) +\n",
    "                  + numpy.einsum('qxi,qxy,qyj->ij', Dx, W[e,:,None,None] * df[1][1], Dx))\n",
    "            Ae[bcmask[E],:] = 0\n",
    "            Ae[:,bcmask[E]] = 0\n",
    "            ai += numpy.outer(E, numpy.ones_like(E)).flatten().tolist()\n",
    "            aj += numpy.outer(numpy.ones_like(E), E).flatten().tolist()\n",
    "            aa += Ae.flatten().tolist()\n",
    "        bcidx = numpy.where(bcmask)[0].tolist()\n",
    "        ai += bcidx\n",
    "        aj += bcidx\n",
    "        aa += numpy.ones_like(bcidx).tolist()\n",
    "        A = sp.csr_matrix((aa, (ai, aj)), shape=(Ndof,Ndof))\n",
    "        if spy:\n",
    "            pyplot.spy(A)\n",
    "        return A\n",
    "    \n",
    "    u0 = numpy.zeros(Ndof) # initial guess\n",
    "    u, nit = fsolve_newton(residual, jacobian, u0, verbose=True)\n",
    "    return x, u"
   ]
  },
  {
   "cell_type": "markdown",
   "metadata": {},
   "source": [
    "Next is a solution for the problem using the pressure and $\\kappa$ values from before, along with porosity $\\phi=0.5$."
   ]
  },
  {
   "cell_type": "code",
   "execution_count": 5,
   "metadata": {},
   "outputs": [
    {
     "name": "stdout",
     "output_type": "stream",
     "text": [
      "Newton 1 anorm 1.37e-14 rnorm 1.17e-15\n"
     ]
    },
    {
     "data": {
      "image/png": "[encoded data removed]",
      "text/plain": [
       "<matplotlib.figure.Figure at 0x1094397f0>"
      ]
     },
     "metadata": {},
     "output_type": "display_data"
    }
   ],
   "source": [
    "temp_prob = temperature()\n",
    "vel_pieces = velocity_components(pressure, kappa=kappa, phi=0.5)\n",
    "x_temp, temp_soln = fe2_solve_hw5(fe, mesh, temp_prob.form, vel_pieces, dict(left=lambda x:0*x[:,0]+1, right=lambda x:0*x[:,0]))\n",
    "pyplot.tricontourf(x_temp[:,0], x_temp[:,1], temp_soln, triangles=mesh.tri2())\n",
    "pyplot.title('Temperature')\n",
    "pyplot.colorbar();"
   ]
  },
  {
   "cell_type": "code",
   "execution_count": null,
   "metadata": {
    "collapsed": true
   },
   "outputs": [],
   "source": []
  }
 ],
 "metadata": {
  "kernelspec": {
   "display_name": "Python 3",
   "language": "python",
   "name": "python3"
  },
  "language_info": {
   "codemirror_mode": {
    "name": "ipython",
    "version": 3
   },
   "file_extension": ".py",
   "mimetype": "text/x-python",
   "name": "python",
   "nbconvert_exporter": "python",
   "pygments_lexer": "ipython3",
   "version": "3.6.2"
  }
 },
 "nbformat": 4,
 "nbformat_minor": 2
}
