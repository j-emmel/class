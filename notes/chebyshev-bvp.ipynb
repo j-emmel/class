{
 "cells": [
  {
   "cell_type": "markdown",
   "metadata": {},
   "source": [
    "# Chebyshev Solution of Boundary Value Problems\n",
    "\n",
    "We'll consider this BVP:\n",
    "\n",
    "$$-u''(x) = f(x), x \\in [-1, 1]\\\\\n",
    "u(-1) = f(-1)\\\\\n",
    "u'(1) = f'(1)$$"
   ]
  },
  {
   "cell_type": "markdown",
   "metadata": {},
   "source": [
    "## Construct Vandermonde Matrix\n",
    "\n",
    "For $n$ points in a vector $\\mathbf{x}$, the `vander_chebyshev` function returns three $n\\times n$ matrices, $T$, $T'$, and $T''$; $T$ is a Vandermonde matrix where elements are terms of the $n$-term Chebyshev polynomial evaluated at the points in $\\mathbf{x}$.\n",
    "\n",
    "$$T = \\begin{bmatrix}\n",
    " \\text{Chebyshev polynomial @ }x_1\\\\\n",
    " \\text{Chebyshev polynomial @ }x_2\\\\\n",
    " \\vdots \\\\\n",
    " \\text{Chebyshev polynomial @ }x_n\\\\\n",
    "\\end{bmatrix}\n",
    "$$\n",
    "\n",
    "The next matrices, $T'$ and $T''$, contain the derivatives of the Chebyshev polynomial from $T$ evaluated at the same points from $\\mathbf{x}$."
   ]
  },
  {
   "cell_type": "markdown",
   "metadata": {},
   "source": [
    "## Set Up BVP Matrices\n",
    "\n",
    "We want to prepare matrices for the BVP, starting with $-u''(x) = f(x)$. The left hand side ($-u''(x)$) starts out with the following, marked \"WIP\" for distinction later.\n",
    "\n",
    "$$L_{WIP1} = -T''$$\n",
    "\n",
    "The corresponding right hand side, $f(x)$, becomes\n",
    "\n",
    "$$\\mathbf{f}_{WIP1} = \\begin{bmatrix}\n",
    " f(x_1)\\\\ \n",
    " f(x_2)\\\\ \n",
    " \\vdots \\\\ \n",
    " f(x_n)\n",
    "\\end{bmatrix}$$\n",
    "\n",
    "Next, we apply the boundary conditions to the rows of the left hand side matrix representing the evaluation of the polynomials at the endpoints (i.e., the first and last rows). The left boundary condition $u(-1) = f(-1)$ requires a row from $T$, and the right boundary condition $u'(1) = f'(1)$ uses a value from $T'$.\n",
    "\n",
    "$$L_{WIP2} = \\begin{bmatrix}\n",
    " \\text{row 1 of } T\\\\\n",
    " \\left[\\text{unchanged rows 2-}(n-1)\\right] \\\\\n",
    " \\text{row n of } T'\\\\\n",
    "\\end{bmatrix}$$\n",
    "\n",
    "We do the same to the corresponding rows of $\\mathbf{f}$:\n",
    "\n",
    "$$\\mathbf{f} = \\begin{bmatrix}\n",
    " f(-1)\\\\ \n",
    " \\left[\\text{unchanged rows 2-}(n-1)\\right] \\\\\n",
    " f(1)\n",
    "\\end{bmatrix}$$\n",
    "\n",
    "Now we return to the left hand side matrix. We post-multiply our work-in-progress $L_{WIP}$ by $T^{-1}$:\n",
    "\n",
    "$$L = L_{WIP2}T^{-1}$$\n",
    "\n",
    "When we apply $T^{-1}$ to a vector of $n$ function values, we get the interpolating coefficients of the $n$-term Chebyshev expansion of that function. Applying the $L_{WIP}$ matrix we build evaluates the derivative expansions in it using those coefficients."
   ]
  },
  {
   "cell_type": "markdown",
   "metadata": {},
   "source": [
    "## Solve\n",
    "\n",
    "Now we can solve the differential equation:\n",
    "\n",
    "$$L\\mathbf{u} = \\mathbf{f}$$\n",
    "\n",
    "Applying $L$ to $\\mathbf{u}$ evaluates the expansion of $-u''$ at the interior points, $u$'s at the left endpoint, and $u'$'s at the right endpoint, yielding the left hand side values $\\mathbf{f}$. Solving this system gives us values of $u$ at the points we used with our Chebyshev expansions.\n"
   ]
  }
 ],
 "metadata": {
  "kernelspec": {
   "display_name": "Python 3",
   "language": "python",
   "name": "python3"
  },
  "language_info": {
   "codemirror_mode": {
    "name": "ipython",
    "version": 3
   },
   "file_extension": ".py",
   "mimetype": "text/x-python",
   "name": "python",
   "nbconvert_exporter": "python",
   "pygments_lexer": "ipython3",
   "version": "3.6.2"
  }
 },
 "nbformat": 4,
 "nbformat_minor": 2
}
